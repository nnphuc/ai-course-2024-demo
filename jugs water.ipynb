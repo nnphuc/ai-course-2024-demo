{
 "cells": [
  {
   "cell_type": "code",
   "execution_count": 57,
   "id": "7d0ad48b",
   "metadata": {},
   "outputs": [],
   "source": [
    "from copy import deepcopy\n"
   ]
  },
  {
   "cell_type": "code",
   "execution_count": 58,
   "id": "66f8f2c4",
   "metadata": {},
   "outputs": [],
   "source": [
    "H = {\n",
    "    0: 2,\n",
    "    1: 1,\n",
    "    2: 0,\n",
    "    3: 1,\n",
    "    4: 3\n",
    "}\n",
    "\n",
    "class State:\n",
    "    \n",
    "    def __init__(self, x, max_x, y, max_y):\n",
    "        self.x = x\n",
    "        self.y = y\n",
    "        self.max_x = max_x\n",
    "        self.max_y = max_y\n",
    "    \n",
    "    \n",
    "    def __repr__(self):\n",
    "        return \"State({}, {})\".format(self.x, self.y)\n",
    "    \n",
    "    def __str__(self):\n",
    "        return repr(self)\n",
    "    \n",
    "    def __eq__(self, other):\n",
    "        return self.x == other.x and self.y == other.y\n",
    "    \n",
    "    def __hash__(self):\n",
    "        return hash((self.x, self.y))\n",
    "    \n",
    "    def get_heuristic(self):\n",
    "        return H[self.x] + H[self.y]\n",
    "    \n",
    "    def __lt__(self, other):\n",
    "        if self.x < other.x: return True\n",
    "        if self.x > other.x: return False\n",
    "        return self.y < other.y\n",
    "    \n",
    "    \n",
    "    def get_next(self):\n",
    "        next_states = set()\n",
    "        \n",
    "        x = self.x\n",
    "        y = self.y\n",
    "        mx = self.max_x\n",
    "        my = self.max_y\n",
    "        \n",
    "        next_states.add(State(0, mx, y, my))\n",
    "        next_states.add(State(x, mx, 0, my))\n",
    "        next_states.add(State(mx, mx, y, my))\n",
    "        next_states.add(State(x, mx, my, my))\n",
    "        if x+y <= mx:\n",
    "            next_states.add(State(x+y, mx, 0, my))\n",
    "        else:\n",
    "            next_states.add(State(mx, mx, min(x+y-mx, my), my))\n",
    "        \n",
    "        if x+y <= my:\n",
    "            next_states.add(State(0, mx, x+y, my))\n",
    "        else:\n",
    "            next_states.add(State(min(x+y-my, mx), mx, my, my))\n",
    "            \n",
    "        return next_states"
   ]
  },
  {
   "cell_type": "code",
   "execution_count": 60,
   "id": "afd1cad8",
   "metadata": {},
   "outputs": [
    {
     "data": {
      "text/plain": [
       "{State(0, 0), State(0, 3), State(4, 0)}"
      ]
     },
     "execution_count": 60,
     "metadata": {},
     "output_type": "execute_result"
    }
   ],
   "source": [
    "start = State(0, 4, 0, 3)\n",
    "goal = State(2, 4, 0, 3)\n",
    "\n",
    "start.get_next()"
   ]
  },
  {
   "cell_type": "code",
   "execution_count": 68,
   "id": "9adf25db",
   "metadata": {},
   "outputs": [],
   "source": [
    "from collections import deque\n",
    "from heapq import *\n",
    "\n",
    "\n",
    "def dfs(start, goal):\n",
    "    trace = {}\n",
    "    visited = {}\n",
    "    \n",
    "    Q = deque()\n",
    "    Q.append(start)\n",
    "    found = False\n",
    "    \n",
    "    expand_count = 0\n",
    "    \n",
    "    while len(Q) > 0 and not found:\n",
    "        \n",
    "        cur = Q.pop()\n",
    "        visited[cur] = True\n",
    "        print(\"check current state \", cur)\n",
    "        for next_state in cur.get_next():\n",
    "            if next_state in visited:\n",
    "                continue\n",
    "            print(\"go\", cur, \"->\", next_state)\n",
    "            trace[next_state] = cur\n",
    "            Q.append(next_state)\n",
    "            expand_count += 1\n",
    "            if next_state == goal:\n",
    "                found = True\n",
    "                break\n",
    "    \n",
    "    path = [goal]\n",
    "    cur = goal\n",
    "    print(\"expand count\", expand_count)\n",
    "    \n",
    "    while cur != start:\n",
    "        cur = trace[cur]\n",
    "        path.append(cur)\n",
    "    print(\"path length = \", len(path))\n",
    "    return path[::-1]\n",
    "    "
   ]
  },
  {
   "cell_type": "code",
   "execution_count": 69,
   "id": "37c0de34",
   "metadata": {},
   "outputs": [
    {
     "name": "stdout",
     "output_type": "stream",
     "text": [
      "check current state  State(0, 0)\n",
      "go State(0, 0) -> State(0, 3)\n",
      "go State(0, 0) -> State(4, 0)\n",
      "check current state  State(4, 0)\n",
      "go State(4, 0) -> State(4, 3)\n",
      "go State(4, 0) -> State(1, 3)\n",
      "check current state  State(1, 3)\n",
      "go State(1, 3) -> State(4, 3)\n",
      "go State(1, 3) -> State(0, 3)\n",
      "go State(1, 3) -> State(1, 0)\n",
      "check current state  State(1, 0)\n",
      "go State(1, 0) -> State(0, 1)\n",
      "check current state  State(0, 1)\n",
      "go State(0, 1) -> State(0, 3)\n",
      "go State(0, 1) -> State(4, 1)\n",
      "check current state  State(4, 1)\n",
      "go State(4, 1) -> State(4, 3)\n",
      "go State(4, 1) -> State(2, 3)\n",
      "check current state  State(2, 3)\n",
      "go State(2, 3) -> State(4, 3)\n",
      "go State(2, 3) -> State(0, 3)\n",
      "go State(2, 3) -> State(2, 0)\n",
      "expand count 15\n",
      "path length =  8\n"
     ]
    },
    {
     "data": {
      "text/plain": [
       "[State(0, 0),\n",
       " State(4, 0),\n",
       " State(1, 3),\n",
       " State(1, 0),\n",
       " State(0, 1),\n",
       " State(4, 1),\n",
       " State(2, 3),\n",
       " State(2, 0)]"
      ]
     },
     "execution_count": 69,
     "metadata": {},
     "output_type": "execute_result"
    }
   ],
   "source": [
    "dfs(start, goal)"
   ]
  },
  {
   "cell_type": "code",
   "execution_count": 59,
   "id": "e2604250",
   "metadata": {},
   "outputs": [],
   "source": [
    "from collections import deque\n",
    "from heapq import *\n",
    "\n",
    "\n",
    "def search(start, goal):\n",
    "    trace = {}\n",
    "    visited = {}\n",
    "    \n",
    "    Q = []\n",
    "    heappush(Q, (1000, start))\n",
    "    found = False\n",
    "    \n",
    "    expand_count = 0\n",
    "    \n",
    "    while len(Q) > 0 and not found:\n",
    "        \n",
    "        heuristic, cur = heappop(Q)\n",
    "        visited[cur] = True\n",
    "        print(\"check current state \", cur,  cur.get_heuristic())\n",
    "        for next_state in cur.get_next():\n",
    "            if next_state in visited:\n",
    "                continue\n",
    "            print(\"go\", cur, \"->\", next_state)\n",
    "            trace[next_state] = cur\n",
    "            heappush(Q, (next_state.get_heuristic(), next_state))\n",
    "            expand_count += 1\n",
    "            if next_state == goal:\n",
    "                found = True\n",
    "                break\n",
    "    \n",
    "    path = [goal]\n",
    "    cur = goal\n",
    "    print(\"expand count\", expand_count )\n",
    "    \n",
    "    while cur != start:\n",
    "        cur = trace[cur]\n",
    "        path.append(cur)\n",
    "    print(\"path length = \", len(path))\n",
    "    return path[::-1]\n",
    "    "
   ]
  },
  {
   "cell_type": "code",
   "execution_count": 61,
   "id": "bf4c805a",
   "metadata": {},
   "outputs": [
    {
     "name": "stdout",
     "output_type": "stream",
     "text": [
      "check current state  State(0, 0) 4\n",
      "go State(0, 0) -> State(0, 3)\n",
      "go State(0, 0) -> State(4, 0)\n",
      "check current state  State(0, 3) 3\n",
      "go State(0, 3) -> State(4, 3)\n",
      "go State(0, 3) -> State(3, 0)\n",
      "check current state  State(3, 0) 3\n",
      "go State(3, 0) -> State(4, 0)\n",
      "go State(3, 0) -> State(3, 3)\n",
      "check current state  State(3, 3) 2\n",
      "go State(3, 3) -> State(4, 3)\n",
      "go State(3, 3) -> State(4, 2)\n",
      "check current state  State(4, 2) 3\n",
      "go State(4, 2) -> State(4, 0)\n",
      "go State(4, 2) -> State(4, 3)\n",
      "go State(4, 2) -> State(0, 2)\n",
      "check current state  State(0, 2) 2\n",
      "go State(0, 2) -> State(2, 0)\n",
      "expand count 12\n",
      "path length =  7\n"
     ]
    },
    {
     "data": {
      "text/plain": [
       "[State(0, 0),\n",
       " State(0, 3),\n",
       " State(3, 0),\n",
       " State(3, 3),\n",
       " State(4, 2),\n",
       " State(0, 2),\n",
       " State(2, 0)]"
      ]
     },
     "execution_count": 61,
     "metadata": {},
     "output_type": "execute_result"
    }
   ],
   "source": [
    "search(start, goal)"
   ]
  }
 ],
 "metadata": {
  "kernelspec": {
   "display_name": "Python 3 (ipykernel)",
   "language": "python",
   "name": "python3"
  },
  "language_info": {
   "codemirror_mode": {
    "name": "ipython",
    "version": 3
   },
   "file_extension": ".py",
   "mimetype": "text/x-python",
   "name": "python",
   "nbconvert_exporter": "python",
   "pygments_lexer": "ipython3",
   "version": "3.9.18"
  }
 },
 "nbformat": 4,
 "nbformat_minor": 5
}
