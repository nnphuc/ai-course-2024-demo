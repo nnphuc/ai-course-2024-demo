{
 "cells": [
  {
   "cell_type": "code",
   "execution_count": 2,
   "id": "40718cdf",
   "metadata": {},
   "outputs": [],
   "source": [
    "from copy import deepcopy"
   ]
  },
  {
   "cell_type": "code",
   "execution_count": 82,
   "id": "1519c8c6",
   "metadata": {},
   "outputs": [],
   "source": [
    "class State:\n",
    "    def __init__(self, board):\n",
    "        self.board = board\n",
    "    \n",
    "    def __str__(self):\n",
    "        row = len(self.board)\n",
    "        col = len(self.board[0])\n",
    "        \n",
    "        s = \"\"\n",
    "        \n",
    "        for i in range(row):\n",
    "            if i > 0:\n",
    "                s += \"-\" * (2* col + 1)\n",
    "                s += \"\\n\"\n",
    "            for j in range(col):\n",
    "                if j > 0:\n",
    "                    s += \"|\"\n",
    "                if self.board[i][j] > 0:\n",
    "                    s += \"{:<2d}\".format(self.board[i][j])\n",
    "                else:\n",
    "                    s += \"{:<2s}\".format(\"\")\n",
    "            s += \"\\n\"\n",
    "        return s\n",
    "    \n",
    "    def __repr__(self):\n",
    "        return str(self)\n",
    "    \n",
    "    def __eq__(self, other):\n",
    "        return str(self) == str(other)\n",
    "    \n",
    "    def __lt__(self, other):\n",
    "        return str(self) < str(other)\n",
    "    \n",
    "    def __hash__(self):\n",
    "        return hash(str(self))\n",
    "    \n",
    "    def find_cell(self, value):\n",
    "        for i, row in enumerate(self.board):\n",
    "            for j, val in enumerate(row):\n",
    "                if val == value:\n",
    "                    return (i,j)\n",
    "    \n",
    "    def blank(self):\n",
    "        return self.find_cell(0)\n",
    "        \n",
    "                \n",
    "    def get_heuristic_1(self, goal):\n",
    "        h = 0\n",
    "        for i, row in enumerate(self.board):\n",
    "            for j, val in enumerate(row):\n",
    "                g_i, g_j = goal.find_cell(val)\n",
    "                h += abs(g_i - i) + abs(g_j - j)\n",
    "        return h\n",
    "    \n",
    "    def get_heuristic_2(self, goal):\n",
    "        h = 0\n",
    "        for i, row in enumerate(self.board):\n",
    "            for j, val in enumerate(row):\n",
    "                g_i, g_j = goal.find_cell(val)\n",
    "                diff = abs(g_i - i) + abs(g_j - j)\n",
    "                if diff > 0:\n",
    "                    h += 1\n",
    "        return h\n",
    "    \n",
    "    \n",
    "    def get_next(self):\n",
    "        next_states = []\n",
    "        \n",
    "        \n",
    "        num_row = len(self.board)\n",
    "        num_col = len(self.board[0])\n",
    "        i,j = self.blank()\n",
    "        for di, dj in [(1, 0), (-1, 0), (0, 1), (0, -1)]:\n",
    "            next_i = i + di\n",
    "            next_j = j + dj\n",
    "            if next_i < 0 or next_i >= num_row or next_j < 0 or next_j >= num_col:\n",
    "                continue\n",
    "            board_clone = deepcopy(self.board)\n",
    "            \n",
    "            board_clone[i][j], board_clone[next_i][next_j] = board_clone[next_i][next_j], board_clone[i][j]\n",
    "\n",
    "            next_states.append(State(board_clone))\n",
    "        return next_states"
   ]
  },
  {
   "cell_type": "code",
   "execution_count": 83,
   "id": "bf7f1a6d",
   "metadata": {},
   "outputs": [
    {
     "data": {
      "text/plain": [
       "1 |4 |3 \n",
       "-------\n",
       "2 |5 |6 \n",
       "-------\n",
       "  |8 |7 "
      ]
     },
     "execution_count": 83,
     "metadata": {},
     "output_type": "execute_result"
    }
   ],
   "source": [
    "start = State([\n",
    "    [1,4,3],\n",
    "    [2,5,6],\n",
    "    [0,8,7]\n",
    "])\n",
    "goal = State([\n",
    "    [0, 1, 2],\n",
    "    [3, 4, 5],\n",
    "    [6, 7, 8]\n",
    "])\n",
    "start"
   ]
  },
  {
   "cell_type": "code",
   "execution_count": 56,
   "id": "9d42bdaf",
   "metadata": {},
   "outputs": [
    {
     "data": {
      "text/plain": [
       "  |1 |2 \n",
       "-------\n",
       "3 |4 |5 \n",
       "-------\n",
       "6 |7 |8 "
      ]
     },
     "execution_count": 56,
     "metadata": {},
     "output_type": "execute_result"
    }
   ],
   "source": [
    "goal"
   ]
  },
  {
   "cell_type": "code",
   "execution_count": 80,
   "id": "c6327679",
   "metadata": {},
   "outputs": [],
   "source": [
    "from collections import deque\n",
    "from heapq import *\n",
    "\n",
    "\n",
    "def bfs(start, goal):\n",
    "    trace = {}\n",
    "    visited = {}\n",
    "    \n",
    "    Q = deque()\n",
    "    Q.append(start)\n",
    "    found = False\n",
    "    \n",
    "    expand_count = 0\n",
    "    \n",
    "    while len(Q) > 0 and not found:\n",
    "        \n",
    "        cur = Q.popleft()\n",
    "        visited[cur] = True\n",
    "        #print(\"check current state \", cur)\n",
    "        for next_state in cur.get_next():\n",
    "            if next_state in visited:\n",
    "                continue\n",
    "            #print(\"go\", cur, \"->\", next_state)\n",
    "            trace[next_state] = cur\n",
    "            Q.append(next_state)\n",
    "            expand_count += 1\n",
    "            if next_state == goal:\n",
    "                found = True\n",
    "                break\n",
    "    \n",
    "    path = [goal]\n",
    "    cur = goal\n",
    "    print(\"expand count\", expand_count)\n",
    "    \n",
    "    while cur != start:\n",
    "        cur = trace[cur]\n",
    "        path.append(cur)\n",
    "    print(\"path length = \", len(path))\n",
    "    return path[::-1]\n",
    "    "
   ]
  },
  {
   "cell_type": "code",
   "execution_count": 86,
   "id": "1846f11d",
   "metadata": {},
   "outputs": [],
   "source": [
    "from collections import deque\n",
    "from heapq import *\n",
    "\n",
    "\n",
    "def dfs(start, goal):\n",
    "    trace = {}\n",
    "    visited = {}\n",
    "    \n",
    "    Q = deque()\n",
    "    Q.append(start)\n",
    "    found = False\n",
    "    \n",
    "    expand_count = 0\n",
    "    \n",
    "    while len(Q) > 0 and not found:\n",
    "        \n",
    "        cur = Q.pop()\n",
    "        visited[cur] = True\n",
    "        #print(\"check current state \", cur)\n",
    "        for next_state in cur.get_next():\n",
    "            if next_state in visited:\n",
    "                continue\n",
    "            #print(\"go\", cur, \"->\", next_state)\n",
    "            trace[next_state] = cur\n",
    "            Q.append(next_state)\n",
    "            expand_count += 1\n",
    "            if next_state == goal:\n",
    "                found = True\n",
    "                break\n",
    "    \n",
    "    path = [goal]\n",
    "    cur = goal\n",
    "    print(\"expand count\", expand_count)\n",
    "    \n",
    "    while cur != start:\n",
    "        cur = trace[cur]\n",
    "        path.append(cur)\n",
    "    print(\"path length = \", len(path))\n",
    "    return path[::-1]\n",
    "    "
   ]
  },
  {
   "cell_type": "code",
   "execution_count": 87,
   "id": "5635a879",
   "metadata": {},
   "outputs": [
    {
     "name": "stdout",
     "output_type": "stream",
     "text": [
      "expand count 31857\n",
      "path length =  18011\n",
      "18011\n"
     ]
    }
   ],
   "source": [
    "path = dfs(start, goal)\n",
    "print(len(path))"
   ]
  },
  {
   "cell_type": "code",
   "execution_count": 65,
   "id": "0a3b3a00",
   "metadata": {},
   "outputs": [
    {
     "data": {
      "text/plain": [
       "16"
      ]
     },
     "execution_count": 65,
     "metadata": {},
     "output_type": "execute_result"
    }
   ],
   "source": [
    "start.get_heuristic_1(goal)"
   ]
  },
  {
   "cell_type": "code",
   "execution_count": 84,
   "id": "2d1871bd",
   "metadata": {},
   "outputs": [],
   "source": [
    "from collections import deque\n",
    "from heapq import *\n",
    "\n",
    "\n",
    "def a_star(start, goal):\n",
    "    trace = {}\n",
    "    visited = {}\n",
    "    \n",
    "    Q = []\n",
    "    heappush(Q, (0, start))\n",
    "    found = False\n",
    "    \n",
    "    expand_count = 0\n",
    "    \n",
    "    while len(Q) > 0 and not found:\n",
    "        \n",
    "        cost, cur = heappop(Q)\n",
    "        visited[cur] = True\n",
    "        #print(\"check current state \", cur)\n",
    "        for next_state in cur.get_next():\n",
    "            if next_state in visited:\n",
    "                continue\n",
    "            #print(\"go\", cur, \"->\", next_state)\n",
    "            trace[next_state] = cur\n",
    "            heappush(Q, (1 + cur.get_heuristic_2(goal), next_state))\n",
    "            expand_count += 1\n",
    "            if next_state == goal:\n",
    "                found = True\n",
    "                break\n",
    "    \n",
    "    path = [goal]\n",
    "    cur = goal\n",
    "    print(\"expand count\", expand_count)\n",
    "    \n",
    "    while cur != start:\n",
    "        cur = trace[cur]\n",
    "        path.append(cur)\n",
    "    #print(\"path length = \", len(path))\n",
    "    return path[::-1]\n",
    "    "
   ]
  },
  {
   "cell_type": "code",
   "execution_count": 85,
   "id": "7d80fa77",
   "metadata": {},
   "outputs": [
    {
     "name": "stdout",
     "output_type": "stream",
     "text": [
      "expand count 1503\n",
      "151\n"
     ]
    }
   ],
   "source": [
    "path = a_star(start, goal)\n",
    "print(len(path))"
   ]
  }
 ],
 "metadata": {
  "kernelspec": {
   "display_name": "Python 3 (ipykernel)",
   "language": "python",
   "name": "python3"
  },
  "language_info": {
   "codemirror_mode": {
    "name": "ipython",
    "version": 3
   },
   "file_extension": ".py",
   "mimetype": "text/x-python",
   "name": "python",
   "nbconvert_exporter": "python",
   "pygments_lexer": "ipython3",
   "version": "3.9.18"
  }
 },
 "nbformat": 4,
 "nbformat_minor": 5
}
