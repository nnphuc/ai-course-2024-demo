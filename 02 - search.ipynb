{
 "cells": [
  {
   "cell_type": "code",
   "execution_count": 136,
   "id": "95f2d55a",
   "metadata": {},
   "outputs": [],
   "source": [
    "from copy import deepcopy\n",
    "\n",
    "Farmer = \"Farmer\"\n",
    "Fox = \"Fox\"\n",
    "Goose = \"Goose\"\n",
    "Grain = \"Grain\"\n",
    "\n",
    "\n",
    "def is_valid(side):\n",
    "    if Fox in side and Goose in side and Farmer not in side:\n",
    "        return False\n",
    "    if Grain in side and Goose in side and Farmer not in side:\n",
    "        return False\n",
    "    return True\n",
    "\n",
    "\n",
    "class State:\n",
    "    def __init__(self, sides):\n",
    "        self.sides = sides\n",
    "        for side in self.sides:\n",
    "            side.sort()\n",
    "    \n",
    "    def get_farmer_index(self):\n",
    "        for i in range(len(self.sides)):\n",
    "            if Farmer in self.sides[i]:\n",
    "                return i\n",
    "        return -1\n",
    "    \n",
    "    def __repr__(self):\n",
    "        return \"State({})\".format(self.sides)\n",
    "    \n",
    "    def __str__(self):\n",
    "        return \"State({})\".format(self.sides)\n",
    "    \n",
    "    def __hash__(self):\n",
    "        return hash(str(self))\n",
    "\n",
    "    def __eq__(self, other):\n",
    "        return self.sides == other.sides\n",
    "    \n",
    "    def get_next(state):\n",
    "        \n",
    "        next_states = []\n",
    "        \n",
    "        farmer_index = state.get_farmer_index()\n",
    "        # move farmer to other side\n",
    "        clone_state = deepcopy(state.sides)\n",
    "        clone_state[farmer_index].remove(Farmer)\n",
    "        clone_state[1-farmer_index].append(Farmer)\n",
    "        if is_valid(clone_state[0]) and is_valid(clone_state[1]):\n",
    "            next_states.append(State(clone_state))\n",
    "        \n",
    "        \n",
    "        for i, it in enumerate(state.sides[farmer_index]):\n",
    "            if it == Farmer:\n",
    "                continue\n",
    "            ### move other object + farmer to other side\n",
    "            clone_state = deepcopy(state.sides)\n",
    "            clone_state[farmer_index].remove(Farmer)\n",
    "            clone_state[farmer_index].remove(it)\n",
    "            clone_state[1-farmer_index].append(Farmer)\n",
    "            clone_state[1-farmer_index].append(it)\n",
    "            \n",
    "            if is_valid(clone_state[0]) and is_valid(clone_state[1]):\n",
    "                next_states.append(State(clone_state))\n",
    "        \n",
    "        return next_states\n",
    "    "
   ]
  },
  {
   "cell_type": "code",
   "execution_count": 137,
   "id": "269de96b",
   "metadata": {},
   "outputs": [
    {
     "data": {
      "text/plain": [
       "[State([['Fox', 'Grain'], ['Farmer', 'Goose']])]"
      ]
     },
     "execution_count": 137,
     "metadata": {},
     "output_type": "execute_result"
    }
   ],
   "source": [
    "start = State([[Farmer, Fox, Grain, Goose], []])\n",
    "goal = State([[], [Farmer, Fox, Grain, Goose]])\n",
    "start.get_farmer_index()\n",
    "\n",
    "start.get_next()"
   ]
  },
  {
   "cell_type": "code",
   "execution_count": 138,
   "id": "45499a9b",
   "metadata": {},
   "outputs": [],
   "source": [
    "from collections import deque\n",
    "\n",
    "\n",
    "def dfs(start, goal):\n",
    "    trace = {}\n",
    "    visited = {}\n",
    "    \n",
    "    Q = deque()\n",
    "    Q.append(start)\n",
    "    found = False\n",
    "    \n",
    "    while len(Q) > 0 and not found:\n",
    "        \n",
    "        cur = Q.pop()\n",
    "        visited[cur] = True\n",
    "        print(\"check current state \", cur)\n",
    "        for next_state in cur.get_next():\n",
    "            if next_state in visited:\n",
    "                continue\n",
    "            print(\"go\", cur, \"->\", next_state)\n",
    "            trace[next_state] = cur\n",
    "            Q.append(next_state)\n",
    "            if next_state == goal:\n",
    "                found = True\n",
    "                break\n",
    "    \n",
    "    path = [goal]\n",
    "    cur = goal\n",
    "    print(found, cur)\n",
    "    \n",
    "    while cur != start:\n",
    "        cur = trace[cur]\n",
    "        path.append(cur)\n",
    "    print(\"path length = \", len(path))\n",
    "    return path[::-1]\n",
    "    "
   ]
  },
  {
   "cell_type": "code",
   "execution_count": 139,
   "id": "b402bf8f",
   "metadata": {},
   "outputs": [
    {
     "name": "stdout",
     "output_type": "stream",
     "text": [
      "check current state  State([['Farmer', 'Fox', 'Goose', 'Grain'], []])\n",
      "go State([['Farmer', 'Fox', 'Goose', 'Grain'], []]) -> State([['Fox', 'Grain'], ['Farmer', 'Goose']])\n",
      "check current state  State([['Fox', 'Grain'], ['Farmer', 'Goose']])\n",
      "go State([['Fox', 'Grain'], ['Farmer', 'Goose']]) -> State([['Farmer', 'Fox', 'Grain'], ['Goose']])\n",
      "check current state  State([['Farmer', 'Fox', 'Grain'], ['Goose']])\n",
      "go State([['Farmer', 'Fox', 'Grain'], ['Goose']]) -> State([['Grain'], ['Farmer', 'Fox', 'Goose']])\n",
      "go State([['Farmer', 'Fox', 'Grain'], ['Goose']]) -> State([['Fox'], ['Farmer', 'Goose', 'Grain']])\n",
      "check current state  State([['Fox'], ['Farmer', 'Goose', 'Grain']])\n",
      "go State([['Fox'], ['Farmer', 'Goose', 'Grain']]) -> State([['Farmer', 'Fox', 'Goose'], ['Grain']])\n",
      "check current state  State([['Farmer', 'Fox', 'Goose'], ['Grain']])\n",
      "go State([['Farmer', 'Fox', 'Goose'], ['Grain']]) -> State([['Goose'], ['Farmer', 'Fox', 'Grain']])\n",
      "check current state  State([['Goose'], ['Farmer', 'Fox', 'Grain']])\n",
      "go State([['Goose'], ['Farmer', 'Fox', 'Grain']]) -> State([['Farmer', 'Goose'], ['Fox', 'Grain']])\n",
      "go State([['Goose'], ['Farmer', 'Fox', 'Grain']]) -> State([['Farmer', 'Goose', 'Grain'], ['Fox']])\n",
      "check current state  State([['Farmer', 'Goose', 'Grain'], ['Fox']])\n",
      "go State([['Farmer', 'Goose', 'Grain'], ['Fox']]) -> State([['Grain'], ['Farmer', 'Fox', 'Goose']])\n",
      "check current state  State([['Grain'], ['Farmer', 'Fox', 'Goose']])\n",
      "check current state  State([['Farmer', 'Goose'], ['Fox', 'Grain']])\n",
      "go State([['Farmer', 'Goose'], ['Fox', 'Grain']]) -> State([[], ['Farmer', 'Fox', 'Goose', 'Grain']])\n",
      "True State([[], ['Farmer', 'Fox', 'Goose', 'Grain']])\n",
      "path length =  8\n"
     ]
    },
    {
     "data": {
      "text/plain": [
       "[State([['Farmer', 'Fox', 'Goose', 'Grain'], []]),\n",
       " State([['Fox', 'Grain'], ['Farmer', 'Goose']]),\n",
       " State([['Farmer', 'Fox', 'Grain'], ['Goose']]),\n",
       " State([['Fox'], ['Farmer', 'Goose', 'Grain']]),\n",
       " State([['Farmer', 'Fox', 'Goose'], ['Grain']]),\n",
       " State([['Goose'], ['Farmer', 'Fox', 'Grain']]),\n",
       " State([['Farmer', 'Goose'], ['Fox', 'Grain']]),\n",
       " State([[], ['Farmer', 'Fox', 'Goose', 'Grain']])]"
      ]
     },
     "execution_count": 139,
     "metadata": {},
     "output_type": "execute_result"
    }
   ],
   "source": [
    "dfs(start, goal)"
   ]
  },
  {
   "cell_type": "code",
   "execution_count": 140,
   "id": "da3745f0",
   "metadata": {},
   "outputs": [],
   "source": [
    "from collections import deque\n",
    "\n",
    "\n",
    "def bfs(start, goal):\n",
    "    trace = {}\n",
    "    visited = {}\n",
    "    \n",
    "    Q = deque()\n",
    "    Q.append(start)\n",
    "    found = False\n",
    "    \n",
    "    while len(Q) > 0 and not found:\n",
    "        \n",
    "        cur = Q.popleft()\n",
    "        visited[cur] = True\n",
    "        #print(\"check node \", cur)\n",
    "        for next_state in cur.get_next():\n",
    "            if next_state in visited:\n",
    "                continue\n",
    "            #print(cur, \"->\", next_state)\n",
    "            trace[next_state] = cur\n",
    "            Q.append(next_state)\n",
    "            if next_state == goal:\n",
    "                found = True\n",
    "                break\n",
    "    \n",
    "    path = [goal]\n",
    "    cur = goal\n",
    "    print(found, cur)\n",
    "    \n",
    "    while cur != start:\n",
    "        cur = trace[cur]\n",
    "        path.append(cur)\n",
    "    print(\"path length = \", len(path))\n",
    "    return path[::-1]\n",
    "    "
   ]
  },
  {
   "cell_type": "code",
   "execution_count": 141,
   "id": "f6f65709",
   "metadata": {},
   "outputs": [
    {
     "name": "stdout",
     "output_type": "stream",
     "text": [
      "True State([[], ['Farmer', 'Fox', 'Goose', 'Grain']])\n",
      "path length =  8\n"
     ]
    },
    {
     "data": {
      "text/plain": [
       "[State([['Farmer', 'Fox', 'Goose', 'Grain'], []]),\n",
       " State([['Fox', 'Grain'], ['Farmer', 'Goose']]),\n",
       " State([['Farmer', 'Fox', 'Grain'], ['Goose']]),\n",
       " State([['Fox'], ['Farmer', 'Goose', 'Grain']]),\n",
       " State([['Farmer', 'Fox', 'Goose'], ['Grain']]),\n",
       " State([['Goose'], ['Farmer', 'Fox', 'Grain']]),\n",
       " State([['Farmer', 'Goose'], ['Fox', 'Grain']]),\n",
       " State([[], ['Farmer', 'Fox', 'Goose', 'Grain']])]"
      ]
     },
     "execution_count": 141,
     "metadata": {},
     "output_type": "execute_result"
    }
   ],
   "source": [
    "bfs(start, goal)"
   ]
  }
 ],
 "metadata": {
  "kernelspec": {
   "display_name": "Python 3 (ipykernel)",
   "language": "python",
   "name": "python3"
  },
  "language_info": {
   "codemirror_mode": {
    "name": "ipython",
    "version": 3
   },
   "file_extension": ".py",
   "mimetype": "text/x-python",
   "name": "python",
   "nbconvert_exporter": "python",
   "pygments_lexer": "ipython3",
   "version": "3.9.18"
  }
 },
 "nbformat": 4,
 "nbformat_minor": 5
}
